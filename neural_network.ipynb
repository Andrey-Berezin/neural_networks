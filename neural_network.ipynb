{
  "nbformat": 4,
  "nbformat_minor": 0,
  "metadata": {
    "colab": {
      "name": "Диплом!!!.ipynb",
      "provenance": [],
      "collapsed_sections": [],
      "authorship_tag": "ABX9TyMtfiAYDpLrOsNRXo0x8P56"
    },
    "kernelspec": {
      "name": "python3",
      "display_name": "Python 3"
    },
    "language_info": {
      "name": "python"
    },
    "accelerator": "GPU"
  },
  "cells": [
    {
      "cell_type": "code",
      "metadata": {
        "id": "RSinH3npLgDT"
      },
      "source": [
        "from keras.datasets import mnist\n",
        "import numpy as np\n",
        "np.random.seed(10)\n",
        "# Model\n",
        "from keras.models import Sequential\n",
        "from keras.models import load_model\n",
        "from keras.layers import Dense, Dropout, Conv2D, MaxPooling2D, Dropout, Flatten\n",
        "from keras.optimizers import SGD \n",
        "from keras.optimizers import Adam\n",
        "from keras.optimizers import RMSprop\n",
        "from keras.utils import np_utils\n",
        "import matplotlib.pyplot as plt\n",
        "# Загрузка данных\n",
        "(X_train, y_train), (X_test, y_test) = mnist.load_data()\n",
        "# Нормализация данных и преобразование размерности\n",
        "X_train = X_train.reshape((60000,28,28,1)).astype('float32') / 255\n",
        "X_test = X_test.reshape((10000,28,28,1)).astype('float32') /255\n",
        "X_train.shape, X_test.shape, y_train.shape, y_test.shape\n",
        "# Преобразование правильных ответов по категориям\n",
        "y_train = np_utils.to_categorical(y_train, 10)\n",
        "y_test = np_utils.to_categorical(y_test, 10)\n"
      ],
      "execution_count": 34,
      "outputs": []
    },
    {
      "cell_type": "code",
      "metadata": {
        "id": "H52EfHS4R46Z"
      },
      "source": [
        "def get_model():\n",
        "  \n",
        "    model = Sequential()                                                                         \n",
        "    model.add(Conv2D(32, kernel_size = (3, 3), activation = 'relu', input_shape = (28, 28, 1)))\n",
        "    model.add(Conv2D(32, kernel_size = (3, 3), activation = 'relu'))\n",
        "    model.add(MaxPooling2D(pool_size = (2, 2)))\n",
        "    model.add(Dropout(0.5))\n",
        "    model.add(Conv2D(64, kernel_size = (3, 3), activation = 'relu'))\n",
        "    model.add(Conv2D(64, kernel_size = (3, 3), activation = 'relu'))\n",
        "    model.add(MaxPooling2D(pool_size = (2, 2)))\n",
        "    model.add(Flatten())\n",
        "    model.add(Dense(256, activation = 'relu'))\n",
        "    model.add(Dropout(0.5))\n",
        "    model.add(Dense(10, activation = 'softmax'))\n",
        "\n",
        "    model.compile(optimizer = 'adam',\n",
        "                  loss = 'categorical_crossentropy',\n",
        "                  metrics = ['accuracy'])\n",
        "    \n",
        "    return model"
      ],
      "execution_count": 35,
      "outputs": []
    },
    {
      "cell_type": "code",
      "metadata": {
        "colab": {
          "base_uri": "https://localhost:8080/"
        },
        "id": "JbJN1M64R4z4",
        "outputId": "a88134f0-907a-4293-8a92-67683a666dae"
      },
      "source": [
        "model = get_model()\n",
        "model.summary()\n",
        "\n",
        "history = model.fit(X_train, y_train, \n",
        "                    epochs=10, batch_size=150, validation_split = 0.1)"
      ],
      "execution_count": 36,
      "outputs": [
        {
          "output_type": "stream",
          "text": [
            "Model: \"sequential_4\"\n",
            "_________________________________________________________________\n",
            "Layer (type)                 Output Shape              Param #   \n",
            "=================================================================\n",
            "conv2d_16 (Conv2D)           (None, 26, 26, 32)        320       \n",
            "_________________________________________________________________\n",
            "conv2d_17 (Conv2D)           (None, 24, 24, 32)        9248      \n",
            "_________________________________________________________________\n",
            "max_pooling2d_8 (MaxPooling2 (None, 12, 12, 32)        0         \n",
            "_________________________________________________________________\n",
            "dropout_8 (Dropout)          (None, 12, 12, 32)        0         \n",
            "_________________________________________________________________\n",
            "conv2d_18 (Conv2D)           (None, 10, 10, 64)        18496     \n",
            "_________________________________________________________________\n",
            "conv2d_19 (Conv2D)           (None, 8, 8, 64)          36928     \n",
            "_________________________________________________________________\n",
            "max_pooling2d_9 (MaxPooling2 (None, 4, 4, 64)          0         \n",
            "_________________________________________________________________\n",
            "flatten_4 (Flatten)          (None, 1024)              0         \n",
            "_________________________________________________________________\n",
            "dense_8 (Dense)              (None, 256)               262400    \n",
            "_________________________________________________________________\n",
            "dropout_9 (Dropout)          (None, 256)               0         \n",
            "_________________________________________________________________\n",
            "dense_9 (Dense)              (None, 10)                2570      \n",
            "=================================================================\n",
            "Total params: 329,962\n",
            "Trainable params: 329,962\n",
            "Non-trainable params: 0\n",
            "_________________________________________________________________\n",
            "Epoch 1/10\n",
            "360/360 [==============================] - 9s 21ms/step - loss: 0.6748 - accuracy: 0.7736 - val_loss: 0.0490 - val_accuracy: 0.9852\n",
            "Epoch 2/10\n",
            "360/360 [==============================] - 7s 20ms/step - loss: 0.0975 - accuracy: 0.9703 - val_loss: 0.0372 - val_accuracy: 0.9890\n",
            "Epoch 3/10\n",
            "360/360 [==============================] - 7s 20ms/step - loss: 0.0678 - accuracy: 0.9794 - val_loss: 0.0319 - val_accuracy: 0.9908\n",
            "Epoch 4/10\n",
            "360/360 [==============================] - 7s 20ms/step - loss: 0.0531 - accuracy: 0.9831 - val_loss: 0.0297 - val_accuracy: 0.9912\n",
            "Epoch 5/10\n",
            "360/360 [==============================] - 7s 20ms/step - loss: 0.0449 - accuracy: 0.9859 - val_loss: 0.0275 - val_accuracy: 0.9920\n",
            "Epoch 6/10\n",
            "360/360 [==============================] - 7s 20ms/step - loss: 0.0372 - accuracy: 0.9882 - val_loss: 0.0245 - val_accuracy: 0.9922\n",
            "Epoch 7/10\n",
            "360/360 [==============================] - 7s 20ms/step - loss: 0.0327 - accuracy: 0.9894 - val_loss: 0.0242 - val_accuracy: 0.9930\n",
            "Epoch 8/10\n",
            "360/360 [==============================] - 7s 20ms/step - loss: 0.0301 - accuracy: 0.9911 - val_loss: 0.0255 - val_accuracy: 0.9925\n",
            "Epoch 9/10\n",
            "360/360 [==============================] - 7s 20ms/step - loss: 0.0266 - accuracy: 0.9920 - val_loss: 0.0268 - val_accuracy: 0.9935\n",
            "Epoch 10/10\n",
            "360/360 [==============================] - 7s 20ms/step - loss: 0.0271 - accuracy: 0.9911 - val_loss: 0.0237 - val_accuracy: 0.9935\n"
          ],
          "name": "stdout"
        }
      ]
    },
    {
      "cell_type": "code",
      "metadata": {
        "colab": {
          "base_uri": "https://localhost:8080/",
          "height": 296
        },
        "id": "wybNfTqsV7aq",
        "outputId": "a459fa45-70ed-40b1-d7d5-5a1c49b925da"
      },
      "source": [
        "x = range(1, 11)\n",
        "\n",
        "plt.grid(True)\n",
        "\n",
        "plt.plot(x, \n",
        "         history.history['accuracy'], \n",
        "         'bo-', \n",
        "         label='Тренировочная выборка')\n",
        "\n",
        "plt.plot(x, \n",
        "         history.history['val_accuracy'],\n",
        "         'ro-',\n",
        "         label='Валидационная выборка')\n",
        "\n",
        "plt.xlabel('Количество эпох обучения')\n",
        "plt.ylabel('Точность')\n",
        "\n",
        "plt.legend(loc='lower right')"
      ],
      "execution_count": 37,
      "outputs": [
        {
          "output_type": "execute_result",
          "data": {
            "text/plain": [
              "<matplotlib.legend.Legend at 0x7f08a3979090>"
            ]
          },
          "metadata": {
            "tags": []
          },
          "execution_count": 37
        },
        {
          "output_type": "display_data",
          "data": {
            "image/png": "[encoded data removed]",
            "text/plain": [
              "<Figure size 432x288 with 1 Axes>"
            ]
          },
          "metadata": {
            "tags": [],
            "needs_background": "light"
          }
        }
      ]
    },
    {
      "cell_type": "code",
      "metadata": {
        "id": "tNEno5ikaXg0"
      },
      "source": [
        "f1 = open(\"test_accuracy.txt\", 'w')\n",
        "a = history.history['accuracy']\n",
        "b = history.history['val_accuracy']\n",
        "f1.write(\"Точность на тренировочной выборке\\n\")\n",
        "f1.writelines(\"%f\\n\" % i for i in a)\n",
        "f1.write(\"\\n\")\n",
        "f1.write(\"Точность на валидационной выборке\\n\")\n",
        "f1.writelines(\"%f\\n\" % i for i in b)\n",
        "f1.close()"
      ],
      "execution_count": 41,
      "outputs": []
    },
    {
      "cell_type": "code",
      "metadata": {
        "colab": {
          "base_uri": "https://localhost:8080/",
          "height": 296
        },
        "id": "bWX18OECWhqk",
        "outputId": "f2cf09e5-df30-4719-f3e3-ecb9c83eb939"
      },
      "source": [
        "x = range(1, 11)\n",
        "\n",
        "plt.grid(True)\n",
        "\n",
        "plt.plot(x, \n",
        "         history.history['loss'], \n",
        "         'bo-', \n",
        "         label='Тренировочная выборка')\n",
        "\n",
        "plt.plot(x, \n",
        "         history.history['val_loss'],\n",
        "         'ro-',\n",
        "         label='Валидационная выборка')\n",
        "\n",
        "plt.xlabel('Количество эпох обучения')\n",
        "plt.ylabel('Функция потерь L(w)')\n",
        "\n",
        "plt.legend(loc='upper right')"
      ],
      "execution_count": 40,
      "outputs": [
        {
          "output_type": "execute_result",
          "data": {
            "text/plain": [
              "<matplotlib.legend.Legend at 0x7f08a37f6f50>"
            ]
          },
          "metadata": {
            "tags": []
          },
          "execution_count": 40
        },
        {
          "output_type": "display_data",
          "data": {
            "image/png": "[encoded data removed]",
            "text/plain": [
              "<Figure size 432x288 with 1 Axes>"
            ]
          },
          "metadata": {
            "tags": [],
            "needs_background": "light"
          }
        }
      ]
    },
    {
      "cell_type": "code",
      "metadata": {
        "id": "g3OOd0MTeEpN"
      },
      "source": [
        "f2 = open(\"test_loss.txt\", 'w')\n",
        "c = history.history['loss']\n",
        "d = history.history['val_loss']\n",
        "f2.write(\"Ошибка на тренировочной выборке\\n\")\n",
        "f2.writelines(\"%f\\n\" % i for i in c)\n",
        "f2.write(\"\\n\")\n",
        "f2.write(\"Ошибка на валидационной выборке\\n\")\n",
        "f2.writelines(\"%f\\n\" % i for i in d)\n",
        "f2.close()"
      ],
      "execution_count": 42,
      "outputs": []
    },
    {
      "cell_type": "code",
      "metadata": {
        "id": "cVBMCelqWS7S",
        "colab": {
          "base_uri": "https://localhost:8080/"
        },
        "outputId": "a5616d58-d5c2-4ca0-c7b6-42585698d5a1"
      },
      "source": [
        "score = model.evaluate(X_test, y_test)\n",
        "print('Test loss:', score[0])\n",
        "print('Test accuracy:', score[1])"
      ],
      "execution_count": 43,
      "outputs": [
        {
          "output_type": "stream",
          "text": [
            "313/313 [==============================] - 2s 5ms/step - loss: 0.0181 - accuracy: 0.9938\n",
            "Test loss: 0.018117977306246758\n",
            "Test accuracy: 0.9937999844551086\n"
          ],
          "name": "stdout"
        }
      ]
    },
    {
      "cell_type": "code",
      "metadata": {
        "id": "mbc8k-DiXpBg"
      },
      "source": [
        "def initialize():\n",
        "    (X_train, y_train), (X_test, y_test) = mnist.load_data()\n",
        "    X_test = X_test.reshape((10000,28,28,1)).astype('float32') /255\n",
        "    X_train = X_train.reshape((60000,28,28,1)).astype('float32') / 255\n",
        "    X_train.shape, X_test.shape, y_train.shape, y_test.shape\n",
        "    # Преобразование правильных ответов по категориям\n",
        "    y_train = np_utils.to_categorical(y_train, 10)\n",
        "    y_test = np_utils.to_categorical(y_test, 10)\n",
        "    return X_test"
      ],
      "execution_count": 44,
      "outputs": []
    },
    {
      "cell_type": "code",
      "metadata": {
        "id": "W7el6kkPXrBs"
      },
      "source": [
        "#рандомное закрашивание пикселов изображения\n",
        "def deform_random(X_test, size):\n",
        "    if size == 0: \n",
        "        return X_test\n",
        "    for i in range(10000):\n",
        "        array = random_array(size)\n",
        "        for j in array:\n",
        "            for k in range(0,28):\n",
        "                X_test[i][j][k] = 0\n",
        "    return X_test"
      ],
      "execution_count": 45,
      "outputs": []
    },
    {
      "cell_type": "code",
      "metadata": {
        "id": "Uxfm-p9objMx"
      },
      "source": [
        "def random_array(size):\n",
        "    array = np.unique(np.random.randint(0, 27, size))\n",
        "    while size != len(array) :\n",
        "        num = np.random.randint(0,27)\n",
        "        array = np.unique(np.append(array, num))\n",
        "    return array"
      ],
      "execution_count": 46,
      "outputs": []
    },
    {
      "cell_type": "code",
      "metadata": {
        "id": "vej-3WIiX3KD",
        "colab": {
          "base_uri": "https://localhost:8080/"
        },
        "outputId": "d2b9ca93-8f37-466d-8f31-cbfff5e69b33"
      },
      "source": [
        "array_acc = []\n",
        "array_loss = []\n",
        "for i in range(0, 28):\n",
        "    x = initialize()\n",
        "    X_test_deform = deform_random(x , i)\n",
        "    score = model.evaluate(X_test_deform, y_test)\n",
        "    print('Test loss:', score[0])\n",
        "    print('Test accuracy:', score[1])\n",
        "    array_loss = np.append(array_loss, score[0])\n",
        "    array_acc = np.append(array_acc, score[1])"
      ],
      "execution_count": 53,
      "outputs": [
        {
          "output_type": "stream",
          "text": [
            "313/313 [==============================] - 2s 5ms/step - loss: 0.0181 - accuracy: 0.9938\n",
            "Test loss: 0.018117977306246758\n",
            "Test accuracy: 0.9937999844551086\n",
            "313/313 [==============================] - 2s 5ms/step - loss: 0.0242 - accuracy: 0.9920\n",
            "Test loss: 0.024220604449510574\n",
            "Test accuracy: 0.9919999837875366\n",
            "313/313 [==============================] - 2s 5ms/step - loss: 0.0380 - accuracy: 0.9878\n",
            "Test loss: 0.038002174347639084\n",
            "Test accuracy: 0.9878000020980835\n",
            "313/313 [==============================] - 2s 5ms/step - loss: 0.0666 - accuracy: 0.9788\n",
            "Test loss: 0.06660916656255722\n",
            "Test accuracy: 0.9787999987602234\n",
            "313/313 [==============================] - 2s 5ms/step - loss: 0.1108 - accuracy: 0.9646\n",
            "Test loss: 0.11075577139854431\n",
            "Test accuracy: 0.9646000266075134\n",
            "313/313 [==============================] - 2s 5ms/step - loss: 0.1737 - accuracy: 0.9450\n",
            "Test loss: 0.17368389666080475\n",
            "Test accuracy: 0.9449999928474426\n",
            "313/313 [==============================] - 2s 5ms/step - loss: 0.2616 - accuracy: 0.9194\n",
            "Test loss: 0.2616475224494934\n",
            "Test accuracy: 0.9193999767303467\n",
            "313/313 [==============================] - 2s 5ms/step - loss: 0.3719 - accuracy: 0.8834\n",
            "Test loss: 0.3718710243701935\n",
            "Test accuracy: 0.883400022983551\n",
            "313/313 [==============================] - 2s 5ms/step - loss: 0.5427 - accuracy: 0.8413\n",
            "Test loss: 0.5426799654960632\n",
            "Test accuracy: 0.8413000106811523\n",
            "313/313 [==============================] - 2s 5ms/step - loss: 0.6835 - accuracy: 0.7967\n",
            "Test loss: 0.6834965348243713\n",
            "Test accuracy: 0.7967000007629395\n",
            "313/313 [==============================] - 2s 5ms/step - loss: 0.9469 - accuracy: 0.7340\n",
            "Test loss: 0.9469467997550964\n",
            "Test accuracy: 0.734000027179718\n",
            "313/313 [==============================] - 2s 5ms/step - loss: 1.1766 - accuracy: 0.6812\n",
            "Test loss: 1.1766297817230225\n",
            "Test accuracy: 0.6812000274658203\n",
            "313/313 [==============================] - 2s 5ms/step - loss: 1.4319 - accuracy: 0.6177\n",
            "Test loss: 1.431850790977478\n",
            "Test accuracy: 0.6176999807357788\n",
            "313/313 [==============================] - 2s 5ms/step - loss: 1.7609 - accuracy: 0.5611\n",
            "Test loss: 1.7609308958053589\n",
            "Test accuracy: 0.5611000061035156\n",
            "313/313 [==============================] - 2s 5ms/step - loss: 2.0686 - accuracy: 0.4981\n",
            "Test loss: 2.0685834884643555\n",
            "Test accuracy: 0.49810001254081726\n",
            "313/313 [==============================] - 2s 5ms/step - loss: 2.3750 - accuracy: 0.4485\n",
            "Test loss: 2.375009775161743\n",
            "Test accuracy: 0.44850000739097595\n",
            "313/313 [==============================] - 2s 5ms/step - loss: 2.6530 - accuracy: 0.3982\n",
            "Test loss: 2.652970552444458\n",
            "Test accuracy: 0.39820000529289246\n",
            "313/313 [==============================] - 2s 5ms/step - loss: 3.0480 - accuracy: 0.3556\n",
            "Test loss: 3.0479652881622314\n",
            "Test accuracy: 0.3555999994277954\n",
            "313/313 [==============================] - 2s 5ms/step - loss: 3.3678 - accuracy: 0.3039\n",
            "Test loss: 3.3678133487701416\n",
            "Test accuracy: 0.30390000343322754\n",
            "313/313 [==============================] - 2s 5ms/step - loss: 3.7094 - accuracy: 0.2697\n",
            "Test loss: 3.7093594074249268\n",
            "Test accuracy: 0.26969999074935913\n",
            "313/313 [==============================] - 2s 5ms/step - loss: 4.0024 - accuracy: 0.2341\n",
            "Test loss: 4.002416133880615\n",
            "Test accuracy: 0.23409999907016754\n",
            "313/313 [==============================] - 2s 5ms/step - loss: 4.3164 - accuracy: 0.1937\n",
            "Test loss: 4.31642484664917\n",
            "Test accuracy: 0.19370000064373016\n",
            "313/313 [==============================] - 2s 5ms/step - loss: 4.4696 - accuracy: 0.1720\n",
            "Test loss: 4.469598770141602\n",
            "Test accuracy: 0.1720000058412552\n",
            "313/313 [==============================] - 2s 5ms/step - loss: 4.6355 - accuracy: 0.1463\n",
            "Test loss: 4.6355390548706055\n",
            "Test accuracy: 0.14630000293254852\n",
            "313/313 [==============================] - 2s 5ms/step - loss: 4.6892 - accuracy: 0.1196\n",
            "Test loss: 4.68917179107666\n",
            "Test accuracy: 0.11959999799728394\n",
            "313/313 [==============================] - 2s 5ms/step - loss: 4.5225 - accuracy: 0.0966\n",
            "Test loss: 4.522514820098877\n",
            "Test accuracy: 0.0966000035405159\n",
            "313/313 [==============================] - 2s 5ms/step - loss: 3.8527 - accuracy: 0.0928\n",
            "Test loss: 3.852658987045288\n",
            "Test accuracy: 0.09279999881982803\n",
            "313/313 [==============================] - 2s 5ms/step - loss: 2.3041 - accuracy: 0.1135\n",
            "Test loss: 2.304053783416748\n",
            "Test accuracy: 0.11349999904632568\n"
          ],
          "name": "stdout"
        }
      ]
    },
    {
      "cell_type": "code",
      "metadata": {
        "id": "EVAg4l8WpvCW"
      },
      "source": [
        "f3 = open(\"test_result_deform.txt\", 'w')\n",
        "f3.write(\"Точность с учетом деформации\")\n",
        "f3.writelines(\"%f\\n\" % i for i in array_acc)\n",
        "f3.close()"
      ],
      "execution_count": 54,
      "outputs": []
    },
    {
      "cell_type": "code",
      "metadata": {
        "id": "AR4UMdraltMp"
      },
      "source": [
        "f4 = open(\"test_result_deform_loss.txt\", 'w')\n",
        "f4.write(\"Ошибка с учетом деформации\")\n",
        "f4.writelines(\"%f\\n\" % i for i in array_loss)\n",
        "f4.close()"
      ],
      "execution_count": 55,
      "outputs": []
    },
    {
      "cell_type": "code",
      "metadata": {
        "id": "reTn5z92YYT0",
        "colab": {
          "base_uri": "https://localhost:8080/",
          "height": 296
        },
        "outputId": "ec5f1477-4c58-4d55-864e-65e079138e36"
      },
      "source": [
        "t = range(28)\n",
        "\n",
        "plt.grid(True)\n",
        "\n",
        "plt.plot(t, \n",
        "         array_acc*100, \n",
        "         'bo-', \n",
        "         label='Точность')\n",
        "plt.xlabel('Количество высеченных рядов')\n",
        "plt.ylabel('Точность, %')\n",
        "\n",
        "plt.legend(loc='upper right')"
      ],
      "execution_count": 56,
      "outputs": [
        {
          "output_type": "execute_result",
          "data": {
            "text/plain": [
              "<matplotlib.legend.Legend at 0x7f08a3449550>"
            ]
          },
          "metadata": {
            "tags": []
          },
          "execution_count": 56
        },
        {
          "output_type": "display_data",
          "data": {
            "image/png": "[encoded data removed]",
            "text/plain": [
              "<Figure size 432x288 with 1 Axes>"
            ]
          },
          "metadata": {
            "tags": [],
            "needs_background": "light"
          }
        }
      ]
    },
    {
      "cell_type": "code",
      "metadata": {
        "colab": {
          "base_uri": "https://localhost:8080/",
          "height": 296
        },
        "id": "7DDYAwImlHq3",
        "outputId": "2730af0d-bf7f-4d71-e676-1492bcbe4576"
      },
      "source": [
        "t = range(28)\n",
        "\n",
        "plt.grid(True)\n",
        "\n",
        "plt.plot(t, \n",
        "         array_loss, \n",
        "         'ro-', \n",
        "         label='Ошибка')\n",
        "plt.xlabel('Количество высеченных рядов')\n",
        "plt.ylabel('Ошибкa')\n",
        "\n",
        "plt.legend(loc='lower right')"
      ],
      "execution_count": 58,
      "outputs": [
        {
          "output_type": "execute_result",
          "data": {
            "text/plain": [
              "<matplotlib.legend.Legend at 0x7f08a0dad290>"
            ]
          },
          "metadata": {
            "tags": []
          },
          "execution_count": 58
        },
        {
          "output_type": "display_data",
          "data": {
            "image/png": "[encoded data removed]",
            "text/plain": [
              "<Figure size 432x288 with 1 Axes>"
            ]
          },
          "metadata": {
            "tags": [],
            "needs_background": "light"
          }
        }
      ]
    },
    {
      "cell_type": "code",
      "metadata": {
        "id": "n7Bgli5dpfE4"
      },
      "source": [
        "model.save('my_model_final.h5')\n"
      ],
      "execution_count": 59,
      "outputs": []
    },
    {
      "cell_type": "code",
      "metadata": {
        "id": "t_1FCGShnZ3A"
      },
      "source": [
        "model = load_model('my_model_final.h5')"
      ],
      "execution_count": null,
      "outputs": []
    },
    {
      "cell_type": "code",
      "metadata": {
        "id": "uDFllN4BpQaq"
      },
      "source": [
        ""
      ],
      "execution_count": null,
      "outputs": []
    }
  ]
}