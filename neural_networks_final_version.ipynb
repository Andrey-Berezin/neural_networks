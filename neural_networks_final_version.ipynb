{
  "nbformat": 4,
  "nbformat_minor": 0,
  "metadata": {
    "colab": {
      "name": "Диплом!!!.ipynb",
      "provenance": [],
      "collapsed_sections": [],
      "authorship_tag": "ABX9TyOaPuM/VuXbCrgaZZxyKO9L",
      "include_colab_link": true
    },
    "kernelspec": {
      "display_name": "Python 3",
      "name": "python3"
    },
    "language_info": {
      "name": "python"
    },
    "accelerator": "GPU"
  },
  "cells": [
    {
      "cell_type": "markdown",
      "metadata": {
        "id": "view-in-github",
        "colab_type": "text"
      },
      "source": [
        "<a href=\"https://colab.research.google.com/github/Andrey-Berezin/neural_networks/blob/main/neural_networks_final_version.ipynb\" target=\"_parent\"><img src=\"https://colab.research.google.com/assets/colab-badge.svg\" alt=\"Open In Colab\"/></a>"
      ]
    },
    {
      "cell_type": "code",
      "metadata": {
        "id": "RSinH3npLgDT",
        "colab": {
          "base_uri": "https://localhost:8080/"
        },
        "outputId": "1d128b26-5a47-48bf-e413-c8e97cd8ca24"
      },
      "source": [
        "from keras.datasets import mnist\n",
        "import numpy as np\n",
        "np.random.seed(12)\n",
        "# Model\n",
        "from keras.models import Sequential\n",
        "from keras.models import load_model\n",
        "from keras.layers import Dense, Dropout, Conv2D, MaxPooling2D, Dropout, Flatten\n",
        "from keras.optimizers import SGD \n",
        "from keras.optimizers import Adam\n",
        "from keras.optimizers import RMSprop\n",
        "from keras.utils import np_utils\n",
        "import matplotlib.pyplot as plt\n",
        "# Загрузка данных\n",
        "(X_train, y_train), (X_test, y_test) = mnist.load_data()\n",
        "# Нормализация данных и преобразование размерности\n",
        "X_train = X_train.reshape((60000,28,28,1)).astype('float32') / 255\n",
        "X_test = X_test.reshape((10000,28,28,1)).astype('float32') /255\n",
        "X_train.shape, X_test.shape, y_train.shape, y_test.shape\n",
        "# Преобразование правильных ответов по категориям\n",
        "y_train = np_utils.to_categorical(y_train, 10)\n",
        "y_test = np_utils.to_categorical(y_test, 10)\n"
      ],
      "execution_count": null,
      "outputs": [
        {
          "output_type": "stream",
          "text": [
            "Downloading data from https://storage.googleapis.com/tensorflow/tf-keras-datasets/mnist.npz\n",
            "11493376/11490434 [==============================] - 1s 0us/step\n",
            "11501568/11490434 [==============================] - 1s 0us/step\n"
          ],
          "name": "stdout"
        }
      ]
    },
    {
      "cell_type": "code",
      "metadata": {
        "id": "H52EfHS4R46Z"
      },
      "source": [
        "def get_model():\n",
        "  \n",
        "    model = Sequential()                                                                         \n",
        "    model.add(Conv2D(32, kernel_size = (3, 3), activation = 'relu', input_shape = (28, 28, 1)))\n",
        "    model.add(Conv2D(32, kernel_size = (3, 3), activation = 'relu'))\n",
        "    model.add(MaxPooling2D(pool_size = (2, 2)))\n",
        "    model.add(Dropout(0.5))\n",
        "    model.add(Conv2D(64, kernel_size = (3, 3), activation = 'relu'))\n",
        "    model.add(Conv2D(64, kernel_size = (3, 3), activation = 'relu'))\n",
        "    model.add(MaxPooling2D(pool_size = (2, 2)))\n",
        "    model.add(Flatten())\n",
        "    model.add(Dense(256, activation = 'relu'))\n",
        "    model.add(Dropout(0.5))\n",
        "    model.add(Dense(10, activation = 'softmax'))\n",
        "\n",
        "    model.compile(optimizer = 'adam',\n",
        "                  loss = 'categorical_crossentropy',\n",
        "                  metrics = ['accuracy'])\n",
        "    \n",
        "    return model"
      ],
      "execution_count": null,
      "outputs": []
    },
    {
      "cell_type": "code",
      "metadata": {
        "id": "JbJN1M64R4z4",
        "colab": {
          "base_uri": "https://localhost:8080/"
        },
        "outputId": "dffa2e31-3fea-4805-e234-14a1338d3eaa"
      },
      "source": [
        "model = get_model()\n",
        "model.summary()\n",
        "\n",
        "history = model.fit(X_train, y_train, \n",
        "                    epochs=10, batch_size=150, validation_split = 0.1, verbose = 1)"
      ],
      "execution_count": null,
      "outputs": [
        {
          "output_type": "stream",
          "text": [
            "Model: \"sequential_12\"\n",
            "_________________________________________________________________\n",
            "Layer (type)                 Output Shape              Param #   \n",
            "=================================================================\n",
            "conv2d_48 (Conv2D)           (None, 26, 26, 32)        320       \n",
            "_________________________________________________________________\n",
            "conv2d_49 (Conv2D)           (None, 24, 24, 32)        9248      \n",
            "_________________________________________________________________\n",
            "max_pooling2d_24 (MaxPooling (None, 12, 12, 32)        0         \n",
            "_________________________________________________________________\n",
            "dropout_24 (Dropout)         (None, 12, 12, 32)        0         \n",
            "_________________________________________________________________\n",
            "conv2d_50 (Conv2D)           (None, 10, 10, 64)        18496     \n",
            "_________________________________________________________________\n",
            "conv2d_51 (Conv2D)           (None, 8, 8, 64)          36928     \n",
            "_________________________________________________________________\n",
            "max_pooling2d_25 (MaxPooling (None, 4, 4, 64)          0         \n",
            "_________________________________________________________________\n",
            "flatten_12 (Flatten)         (None, 1024)              0         \n",
            "_________________________________________________________________\n",
            "dense_24 (Dense)             (None, 256)               262400    \n",
            "_________________________________________________________________\n",
            "dropout_25 (Dropout)         (None, 256)               0         \n",
            "_________________________________________________________________\n",
            "dense_25 (Dense)             (None, 10)                2570      \n",
            "=================================================================\n",
            "Total params: 329,962\n",
            "Trainable params: 329,962\n",
            "Non-trainable params: 0\n",
            "_________________________________________________________________\n",
            "Epoch 1/10\n",
            "360/360 [==============================] - 4s 10ms/step - loss: 0.6924 - accuracy: 0.7636 - val_loss: 0.0528 - val_accuracy: 0.9842\n",
            "Epoch 2/10\n",
            "360/360 [==============================] - 3s 9ms/step - loss: 0.0971 - accuracy: 0.9708 - val_loss: 0.0442 - val_accuracy: 0.9882\n",
            "Epoch 3/10\n",
            "360/360 [==============================] - 3s 9ms/step - loss: 0.0674 - accuracy: 0.9783 - val_loss: 0.0381 - val_accuracy: 0.9892\n",
            "Epoch 4/10\n",
            "360/360 [==============================] - 3s 9ms/step - loss: 0.0520 - accuracy: 0.9843 - val_loss: 0.0326 - val_accuracy: 0.9912\n",
            "Epoch 5/10\n",
            "360/360 [==============================] - 3s 9ms/step - loss: 0.0443 - accuracy: 0.9874 - val_loss: 0.0291 - val_accuracy: 0.9923\n",
            "Epoch 6/10\n",
            "360/360 [==============================] - 3s 9ms/step - loss: 0.0380 - accuracy: 0.9876 - val_loss: 0.0282 - val_accuracy: 0.9918\n",
            "Epoch 7/10\n",
            "360/360 [==============================] - 3s 9ms/step - loss: 0.0309 - accuracy: 0.9895 - val_loss: 0.0242 - val_accuracy: 0.9935\n",
            "Epoch 8/10\n",
            "360/360 [==============================] - 3s 9ms/step - loss: 0.0279 - accuracy: 0.9915 - val_loss: 0.0252 - val_accuracy: 0.9942\n",
            "Epoch 9/10\n",
            "360/360 [==============================] - 3s 9ms/step - loss: 0.0244 - accuracy: 0.9921 - val_loss: 0.0285 - val_accuracy: 0.9930\n",
            "Epoch 10/10\n",
            "360/360 [==============================] - 3s 9ms/step - loss: 0.0235 - accuracy: 0.9919 - val_loss: 0.0223 - val_accuracy: 0.9950\n"
          ],
          "name": "stdout"
        }
      ]
    },
    {
      "cell_type": "code",
      "metadata": {
        "colab": {
          "base_uri": "https://localhost:8080/",
          "height": 296
        },
        "id": "wybNfTqsV7aq",
        "outputId": "5c1faae3-2da8-46d0-d600-9d991d7e59d3"
      },
      "source": [
        "#график точности во время обучения\n",
        "x = range(1, 11)\n",
        "\n",
        "plt.grid(True)\n",
        "\n",
        "plt.plot(x, \n",
        "         history.history['accuracy'], \n",
        "         'bo-', \n",
        "         label='Тренировочная выборка')\n",
        "\n",
        "plt.plot(x, \n",
        "         history.history['val_accuracy'],\n",
        "         'ro-',\n",
        "         label='Валидационная выборка')\n",
        "\n",
        "plt.xlabel('Количество эпох обучения')\n",
        "plt.ylabel('Точность, %')\n",
        "\n",
        "plt.legend(loc='lower right')"
      ],
      "execution_count": null,
      "outputs": [
        {
          "output_type": "execute_result",
          "data": {
            "text/plain": [
              "<matplotlib.legend.Legend at 0x7fc99e2786d0>"
            ]
          },
          "metadata": {
            "tags": []
          },
          "execution_count": 119
        },
        {
          "output_type": "display_data",
          "data": {
            "image/png": "[encoded data removed]",
            "text/plain": [
              "<Figure size 432x288 with 1 Axes>"
            ]
          },
          "metadata": {
            "tags": [],
            "needs_background": "light"
          }
        }
      ]
    },
    {
      "cell_type": "code",
      "metadata": {
        "id": "tNEno5ikaXg0"
      },
      "source": [
        "#запись результатов точности на тренировочной выборке\n",
        "f1 = open(\"test_accuracy1.txt\", 'w')\n",
        "a = history.history['accuracy']\n",
        "b = history.history['val_accuracy']\n",
        "f1.write(\"Точность на тренировочной выборке\\n\")\n",
        "f1.writelines(\"%f\\n\" % i for i in a)\n",
        "f1.write(\"\\n\")\n",
        "f1.write(\"Точность на валидационной выборке\\n\")\n",
        "f1.writelines(\"%f\\n\" % i for i in b)\n",
        "f1.close()"
      ],
      "execution_count": null,
      "outputs": []
    },
    {
      "cell_type": "code",
      "metadata": {
        "colab": {
          "base_uri": "https://localhost:8080/",
          "height": 296
        },
        "id": "bWX18OECWhqk",
        "outputId": "ec750678-f487-45f6-c245-924b1311f050"
      },
      "source": [
        "#график ошибки во время обучения\n",
        "x = range(1, 11)\n",
        "\n",
        "plt.grid(True)\n",
        "\n",
        "plt.plot(x, \n",
        "         history.history['loss'], \n",
        "         'bo-', \n",
        "         label='Тренировочная выборка')\n",
        "\n",
        "plt.plot(x, \n",
        "         history.history['val_loss'],\n",
        "         'ro-',\n",
        "         label='Валидационная выборка')\n",
        "\n",
        "plt.xlabel('Количество эпох обучения')\n",
        "plt.ylabel('Функция потерь L(w)')\n",
        "\n",
        "plt.legend(loc='upper right')"
      ],
      "execution_count": null,
      "outputs": [
        {
          "output_type": "execute_result",
          "data": {
            "text/plain": [
              "<matplotlib.legend.Legend at 0x7fc99bff7c10>"
            ]
          },
          "metadata": {
            "tags": []
          },
          "execution_count": 120
        },
        {
          "output_type": "display_data",
          "data": {
            "image/png": "[encoded data removed]",
            "text/plain": [
              "<Figure size 432x288 with 1 Axes>"
            ]
          },
          "metadata": {
            "tags": [],
            "needs_background": "light"
          }
        }
      ]
    },
    {
      "cell_type": "code",
      "metadata": {
        "id": "g3OOd0MTeEpN"
      },
      "source": [
        "#запись результатов функции потерь на тренировочной выборке\n",
        "f2 = open(\"test_loss1.txt\", 'w')\n",
        "c = history.history['loss']\n",
        "d = history.history['val_loss']\n",
        "f2.write(\"Ошибка на тренировочной выборке\\n\")\n",
        "f2.writelines(\"%f\\n\" % i for i in c)\n",
        "f2.write(\"\\n\")\n",
        "f2.write(\"Ошибка на валидационной выборке\\n\")\n",
        "f2.writelines(\"%f\\n\" % i for i in d)\n",
        "f2.close()"
      ],
      "execution_count": null,
      "outputs": []
    },
    {
      "cell_type": "code",
      "metadata": {
        "colab": {
          "base_uri": "https://localhost:8080/"
        },
        "id": "cVBMCelqWS7S",
        "outputId": "4e2e0307-4852-4062-afa1-e4c6965fbc22"
      },
      "source": [
        "#проверка сети на тестовой выборке\n",
        "score = model.evaluate(X_test, y_test)\n",
        "print('Test loss:', score[0])\n",
        "print('Test accuracy:', score[1])"
      ],
      "execution_count": null,
      "outputs": [
        {
          "output_type": "stream",
          "text": [
            "313/313 [==============================] - 1s 3ms/step - loss: 0.0157 - accuracy: 0.9941\n",
            "Test loss: 0.0157456174492836\n",
            "Test accuracy: 0.9940999746322632\n"
          ],
          "name": "stdout"
        }
      ]
    },
    {
      "cell_type": "code",
      "metadata": {
        "id": "mbc8k-DiXpBg"
      },
      "source": [
        "#метод для загрузки данных\n",
        "def initialize():\n",
        "    (X_train, y_train), (X_test, y_test) = mnist.load_data()\n",
        "    X_test = X_test.reshape((10000,28,28,1)).astype('float32') /255\n",
        "    X_train = X_train.reshape((60000,28,28,1)).astype('float32') / 255\n",
        "    X_train.shape, X_test.shape, y_train.shape, y_test.shape\n",
        "    y_train = np_utils.to_categorical(y_train, 10)\n",
        "    y_test = np_utils.to_categorical(y_test, 10)\n",
        "    return X_test"
      ],
      "execution_count": null,
      "outputs": []
    },
    {
      "cell_type": "code",
      "metadata": {
        "id": "W7el6kkPXrBs"
      },
      "source": [
        "#рандомное закрашивание пикселов изображения\n",
        "def deform_random(X_test, size):\n",
        "    if size == 0: \n",
        "        return X_test\n",
        "    for i in range(10000):\n",
        "        array = random_array(size)\n",
        "        for j in array:\n",
        "            for k in range(0,28):\n",
        "                X_test[i][j][k] = 0\n",
        "    return X_test"
      ],
      "execution_count": null,
      "outputs": []
    },
    {
      "cell_type": "code",
      "metadata": {
        "id": "Uxfm-p9objMx"
      },
      "source": [
        "#генерация рандомного массива заданной длины из неповторяющихся чисел\n",
        "def random_array(size):\n",
        "    array = np.unique(np.random.randint(0, 27, size))\n",
        "    while size != len(array) :\n",
        "        num = np.random.randint(0, 27)\n",
        "        array = np.unique(np.append(array, num))\n",
        "    return array"
      ],
      "execution_count": null,
      "outputs": []
    },
    {
      "cell_type": "code",
      "metadata": {
        "colab": {
          "base_uri": "https://localhost:8080/",
          "height": 299
        },
        "id": "Z3HE0gDCAtv0",
        "outputId": "658ce9f4-f449-4725-ce8e-f9fe91c5e84a"
      },
      "source": [
        "#изображение деформированных цифр\n",
        "init = initialize()\n",
        "count = 3\n",
        "num_image = 0\n",
        "x_test_sample_deform = deform_random(init, count)\n",
        "x_test_sample_deform = x_test_sample_deform.reshape((10000,28,28))\n",
        "plt.imshow(x_test_sample_deform[num_image], cmap=plt.get_cmap('gray_r'))"
      ],
      "execution_count": null,
      "outputs": [
        {
          "output_type": "stream",
          "text": [
            "[ 9 17 25]\n"
          ],
          "name": "stdout"
        },
        {
          "output_type": "execute_result",
          "data": {
            "text/plain": [
              "<matplotlib.image.AxesImage at 0x7fc82232b550>"
            ]
          },
          "metadata": {
            "tags": []
          },
          "execution_count": 37
        },
        {
          "output_type": "display_data",
          "data": {
            "image/png": "[encoded data removed]",
            "text/plain": [
              "<Figure size 432x288 with 1 Axes>"
            ]
          },
          "metadata": {
            "tags": [],
            "needs_background": "light"
          }
        }
      ]
    },
    {
      "cell_type": "code",
      "metadata": {
        "colab": {
          "base_uri": "https://localhost:8080/"
        },
        "id": "vej-3WIiX3KD",
        "outputId": "8bcc238e-3fcb-478d-e266-c00ef84956a1"
      },
      "source": [
        "#тест сети на деформированных данных\n",
        "array_acc = []\n",
        "array_loss = []\n",
        "for i in range(0, 28):\n",
        "    x = initialize()\n",
        "    X_test_deform = deform_random(x , i)\n",
        "    score = model.evaluate(X_test_deform, y_test)\n",
        "    print('Test loss:', score[0])\n",
        "    print('Test accuracy:', score[1])\n",
        "    array_loss = np.append(array_loss, score[0])\n",
        "    array_acc = np.append(array_acc, score[1])"
      ],
      "execution_count": null,
      "outputs": [
        {
          "output_type": "stream",
          "text": [
            "313/313 [==============================] - 1s 3ms/step - loss: 0.0157 - accuracy: 0.9941\n",
            "Test loss: 0.0157456174492836\n",
            "Test accuracy: 0.9940999746322632\n",
            "313/313 [==============================] - 1s 3ms/step - loss: 0.0325 - accuracy: 0.9885\n",
            "Test loss: 0.0324685163795948\n",
            "Test accuracy: 0.9884999990463257\n",
            "313/313 [==============================] - 1s 3ms/step - loss: 0.0652 - accuracy: 0.9783\n",
            "Test loss: 0.06519367545843124\n",
            "Test accuracy: 0.9782999753952026\n",
            "313/313 [==============================] - 1s 3ms/step - loss: 0.1293 - accuracy: 0.9589\n",
            "Test loss: 0.129316046833992\n",
            "Test accuracy: 0.958899974822998\n",
            "313/313 [==============================] - 1s 3ms/step - loss: 0.2385 - accuracy: 0.9219\n",
            "Test loss: 0.23845602571964264\n",
            "Test accuracy: 0.9218999743461609\n",
            "313/313 [==============================] - 1s 3ms/step - loss: 0.3787 - accuracy: 0.8806\n",
            "Test loss: 0.3787042796611786\n",
            "Test accuracy: 0.8805999755859375\n",
            "313/313 [==============================] - 1s 3ms/step - loss: 0.5532 - accuracy: 0.8304\n",
            "Test loss: 0.5532237887382507\n",
            "Test accuracy: 0.8303999900817871\n",
            "313/313 [==============================] - 1s 3ms/step - loss: 0.7629 - accuracy: 0.7718\n",
            "Test loss: 0.7629315853118896\n",
            "Test accuracy: 0.7717999815940857\n",
            "313/313 [==============================] - 1s 3ms/step - loss: 1.0071 - accuracy: 0.7156\n",
            "Test loss: 1.0070936679840088\n",
            "Test accuracy: 0.7156000137329102\n",
            "313/313 [==============================] - 1s 3ms/step - loss: 1.2476 - accuracy: 0.6499\n",
            "Test loss: 1.2475581169128418\n",
            "Test accuracy: 0.6499000191688538\n",
            "313/313 [==============================] - 1s 3ms/step - loss: 1.5064 - accuracy: 0.5977\n",
            "Test loss: 1.506396770477295\n",
            "Test accuracy: 0.5976999998092651\n",
            "313/313 [==============================] - 1s 3ms/step - loss: 1.7674 - accuracy: 0.5413\n",
            "Test loss: 1.7674492597579956\n",
            "Test accuracy: 0.5412999987602234\n",
            "313/313 [==============================] - 1s 3ms/step - loss: 2.0885 - accuracy: 0.4845\n",
            "Test loss: 2.088536024093628\n",
            "Test accuracy: 0.484499990940094\n",
            "313/313 [==============================] - 1s 3ms/step - loss: 2.3301 - accuracy: 0.4467\n",
            "Test loss: 2.3300814628601074\n",
            "Test accuracy: 0.44670000672340393\n",
            "313/313 [==============================] - 1s 3ms/step - loss: 2.6393 - accuracy: 0.4024\n",
            "Test loss: 2.6393113136291504\n",
            "Test accuracy: 0.4023999869823456\n",
            "313/313 [==============================] - 1s 3ms/step - loss: 2.9434 - accuracy: 0.3618\n",
            "Test loss: 2.9434263706207275\n",
            "Test accuracy: 0.3617999851703644\n",
            "313/313 [==============================] - 1s 3ms/step - loss: 3.2336 - accuracy: 0.3259\n",
            "Test loss: 3.233646869659424\n",
            "Test accuracy: 0.32589998841285706\n",
            "313/313 [==============================] - 1s 3ms/step - loss: 3.5289 - accuracy: 0.2931\n",
            "Test loss: 3.5289480686187744\n",
            "Test accuracy: 0.2930999994277954\n",
            "313/313 [==============================] - 1s 3ms/step - loss: 3.8102 - accuracy: 0.2574\n",
            "Test loss: 3.8101565837860107\n",
            "Test accuracy: 0.2574000060558319\n",
            "313/313 [==============================] - 1s 3ms/step - loss: 4.0569 - accuracy: 0.2353\n",
            "Test loss: 4.0569024085998535\n",
            "Test accuracy: 0.2353000044822693\n",
            "313/313 [==============================] - 1s 3ms/step - loss: 4.3681 - accuracy: 0.2029\n",
            "Test loss: 4.368142604827881\n",
            "Test accuracy: 0.2029000073671341\n",
            "313/313 [==============================] - 1s 3ms/step - loss: 4.5737 - accuracy: 0.1766\n",
            "Test loss: 4.573727130889893\n",
            "Test accuracy: 0.17659999430179596\n",
            "313/313 [==============================] - 1s 3ms/step - loss: 4.7069 - accuracy: 0.1526\n",
            "Test loss: 4.706859588623047\n",
            "Test accuracy: 0.1526000052690506\n",
            "313/313 [==============================] - 1s 3ms/step - loss: 4.9033 - accuracy: 0.1312\n",
            "Test loss: 4.903285980224609\n",
            "Test accuracy: 0.13120000064373016\n",
            "313/313 [==============================] - 1s 3ms/step - loss: 4.9284 - accuracy: 0.1099\n",
            "Test loss: 4.928390979766846\n",
            "Test accuracy: 0.10989999771118164\n",
            "313/313 [==============================] - 1s 3ms/step - loss: 4.6933 - accuracy: 0.0993\n",
            "Test loss: 4.693294048309326\n",
            "Test accuracy: 0.09929999709129333\n",
            "313/313 [==============================] - 1s 3ms/step - loss: 4.1033 - accuracy: 0.0949\n",
            "Test loss: 4.103332042694092\n",
            "Test accuracy: 0.09489999711513519\n",
            "313/313 [==============================] - 1s 3ms/step - loss: 2.3038 - accuracy: 0.1135\n",
            "Test loss: 2.303805112838745\n",
            "Test accuracy: 0.11349999904632568\n"
          ],
          "name": "stdout"
        }
      ]
    },
    {
      "cell_type": "code",
      "metadata": {
        "id": "EVAg4l8WpvCW"
      },
      "source": [
        "#запись точности в файл\n",
        "f3 = open(\"test_result_deform.txt\", 'w')\n",
        "f3.write(\"Точность с учетом деформации\")\n",
        "f3.writelines(\"%f\\n\" % i for i in array_acc)\n",
        "f3.close()"
      ],
      "execution_count": null,
      "outputs": []
    },
    {
      "cell_type": "code",
      "metadata": {
        "id": "AR4UMdraltMp"
      },
      "source": [
        "#запись ошибки в файл\n",
        "f4 = open(\"test_result_deform_loss.txt\", 'w')\n",
        "f4.write(\"Ошибка с учетом деформации\")\n",
        "f4.writelines(\"%f\\n\" % i for i in array_loss)\n",
        "f4.close()"
      ],
      "execution_count": null,
      "outputs": []
    },
    {
      "cell_type": "code",
      "metadata": {
        "id": "reTn5z92YYT0",
        "colab": {
          "base_uri": "https://localhost:8080/",
          "height": 296
        },
        "outputId": "f6d7fe5f-0386-4a6c-efcd-9edd13a13d82"
      },
      "source": [
        "#график точности для искаженных цифр\n",
        "t = range(28)\n",
        "\n",
        "plt.grid(True)\n",
        "\n",
        "plt.plot(t, \n",
        "         array_acc*100, \n",
        "         'bo-', \n",
        "         label='Точность')\n",
        "plt.xlabel('Количество высеченных рядов')\n",
        "plt.ylabel('Точность, %')\n",
        "\n",
        "plt.legend(loc='upper right')"
      ],
      "execution_count": null,
      "outputs": [
        {
          "output_type": "execute_result",
          "data": {
            "text/plain": [
              "<matplotlib.legend.Legend at 0x7fca16282a50>"
            ]
          },
          "metadata": {
            "tags": []
          },
          "execution_count": 130
        },
        {
          "output_type": "display_data",
          "data": {
            "image/png": "[encoded data removed]",
            "text/plain": [
              "<Figure size 432x288 with 1 Axes>"
            ]
          },
          "metadata": {
            "tags": [],
            "needs_background": "light"
          }
        }
      ]
    },
    {
      "cell_type": "code",
      "metadata": {
        "id": "7DDYAwImlHq3",
        "colab": {
          "base_uri": "https://localhost:8080/",
          "height": 296
        },
        "outputId": "fecb1498-8893-4163-f67d-d5d8ce875eda"
      },
      "source": [
        "#график ошибки для искаженных цифр\n",
        "t = range(28)\n",
        "\n",
        "plt.grid(True)\n",
        "\n",
        "plt.plot(t, \n",
        "         array_loss, \n",
        "         'ro-', \n",
        "         label='Ошибка')\n",
        "plt.xlabel('Количество высеченных рядов')\n",
        "plt.ylabel('Ошибкa')\n",
        "\n",
        "plt.legend(loc='lower right')"
      ],
      "execution_count": null,
      "outputs": [
        {
          "output_type": "execute_result",
          "data": {
            "text/plain": [
              "<matplotlib.legend.Legend at 0x7fca16274f10>"
            ]
          },
          "metadata": {
            "tags": []
          },
          "execution_count": 131
        },
        {
          "output_type": "display_data",
          "data": {
            "image/png": "[encoded data removed]",
            "text/plain": [
              "<Figure size 432x288 with 1 Axes>"
            ]
          },
          "metadata": {
            "tags": [],
            "needs_background": "light"
          }
        }
      ]
    },
    {
      "cell_type": "code",
      "metadata": {
        "id": "n7Bgli5dpfE4"
      },
      "source": [
        "#сохранение модели\n",
        "model.save('my_model_final.h5')\n"
      ],
      "execution_count": null,
      "outputs": []
    },
    {
      "cell_type": "code",
      "metadata": {
        "id": "t_1FCGShnZ3A"
      },
      "source": [
        "#model = load_model('my_model_final.h5')"
      ],
      "execution_count": null,
      "outputs": []
    },
    {
      "cell_type": "code",
      "metadata": {
        "id": "uDFllN4BpQaq"
      },
      "source": [
        ""
      ],
      "execution_count": null,
      "outputs": []
    }
  ]
}